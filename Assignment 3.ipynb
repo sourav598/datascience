{
 "cells": [
  {
   "cell_type": "markdown",
   "metadata": {},
   "source": [
    "# Question 1"
   ]
  },
  {
   "cell_type": "code",
   "execution_count": 4,
   "metadata": {},
   "outputs": [
    {
     "name": "stdout",
     "output_type": "stream",
     "text": [
      "[ 2  5  8 11 14 17 20 23 26 29 32 35 38 41 44 47 50]\n"
     ]
    }
   ],
   "source": [
    "#importing the numpy package\n",
    "import numpy as np\n",
    "#creating a numpuy arrar\n",
    "array = np.arange(2,51,3)\n",
    "print(array)"
   ]
  },
  {
   "cell_type": "markdown",
   "metadata": {},
   "source": [
    "# Question 2"
   ]
  },
  {
   "cell_type": "code",
   "execution_count": 6,
   "metadata": {},
   "outputs": [
    {
     "name": "stdout",
     "output_type": "stream",
     "text": [
      "5\n",
      "23\n",
      "65\n",
      "78\n",
      "98\n",
      "list 1 : [5, 23, 65, 78, 98]\n",
      "56\n",
      "78\n",
      "90\n",
      "43\n",
      "21\n",
      "list 2 : [56, 78, 90, 43, 21]\n",
      "list 1 converted into array ; [ 5 23 65 78 98]\n",
      "list 2 converted into array ; [56 78 90 43 21]\n",
      "the concatenation of the two array is : [ 5 23 65 78 98 56 78 90 43 21]\n",
      "the sorted array is: [ 5 21 23 43 56 65 78 78 90 98]\n"
     ]
    }
   ],
   "source": [
    "#creating 2 lists\n",
    "list1 = []\n",
    "list2 = []\n",
    "#accepting 5 elements in each list\n",
    "#for list1\n",
    "for i in range(5):\n",
    "    x = int(input())\n",
    "    list1.append(x)\n",
    "print(\"list 1 :\",list1)\n",
    "#for list2\n",
    "for i in range(5):\n",
    "    y = int(input())\n",
    "    list2.append(y)\n",
    "print(\"list 2 :\",list2)\n",
    "#converting both list into numpy array\n",
    "array1 = np.array(list1)\n",
    "array2 = np.array(list2)\n",
    "print(\"list 1 converted into array ;\",array1)\n",
    "print(\"list 2 converted into array ;\",array2)\n",
    "#concatenate both the arrays\n",
    "con = np.concatenate((array1,array2))\n",
    "print(\"the concatenation of the two array is :\",con)\n",
    "#sorting the arrays\n",
    "sort = np.sort(con)\n",
    "print(\"the sorted array is:\",sort)\n",
    "    "
   ]
  },
  {
   "cell_type": "markdown",
   "metadata": {},
   "source": [
    "# Question 3"
   ]
  },
  {
   "cell_type": "code",
   "execution_count": 9,
   "metadata": {},
   "outputs": [
    {
     "name": "stdout",
     "output_type": "stream",
     "text": [
      "the array is : [[1 6 3]\n",
      " [4 9 8]]\n",
      "the dimension of array is : 2\n",
      "the size of array is: 6\n"
     ]
    }
   ],
   "source": [
    "#defining the array\n",
    "array = np.array([[1,6,3],[4,9,8]])\n",
    "print(\"the array is :\",array)\n",
    "#finding the dimension of the array \n",
    "print(\"the dimension of array is :\",array.ndim)\n",
    "#finding the size of the array\n",
    "print(\"the size of array is:\",array.size)"
   ]
  },
  {
   "cell_type": "markdown",
   "metadata": {},
   "source": [
    "# Question 4"
   ]
  },
  {
   "cell_type": "code",
   "execution_count": 11,
   "metadata": {},
   "outputs": [
    {
     "name": "stdout",
     "output_type": "stream",
     "text": [
      "5\n",
      "shape of 1D array is: (5,)\n",
      "the row of 2d array is : (1, 5)\n",
      "the colum of 2d array is : (5, 1)\n"
     ]
    }
   ],
   "source": [
    "#definig the array\n",
    "array = np.arange(int(input()))\n",
    "#checking the shape of 1D array created \n",
    "print(\"shape of 1D array is:\",array.shape)\n",
    "#converting 1D array into 2D array\n",
    "array_row = array[np.newaxis]\n",
    "print(\"the row of 2d array is :\",array_row.shape)\n",
    "array_col = array[:, np.newaxis]\n",
    "print(\"the colum of 2d array is :\",array_col.shape)\n"
   ]
  },
  {
   "cell_type": "markdown",
   "metadata": {},
   "source": [
    "# Question5"
   ]
  },
  {
   "cell_type": "code",
   "execution_count": 2,
   "metadata": {},
   "outputs": [
    {
     "name": "stdout",
     "output_type": "stream",
     "text": [
      "vertical stacking :\n",
      " [[2 4]\n",
      " [3 6]\n",
      " [9 7]\n",
      " [8 1]]\n",
      "horizontal stacking : \n",
      " [[2 4 9 7]\n",
      " [3 6 8 1]]\n"
     ]
    }
   ],
   "source": [
    "import numpy as np\n",
    "#creating square numpy arrays\n",
    "a = np.array([[2,4],[3,6]])\n",
    "b = np.array([[9,7],[8,1]])\n",
    "#vertical stacking \n",
    "print('vertical stacking :\\n', np.vstack((a,b)))\n",
    "#horizontal sracking\n",
    "print('horizontal stacking : \\n', np.hstack((a,b)))"
   ]
  },
  {
   "cell_type": "markdown",
   "metadata": {},
   "source": [
    "# Question 6"
   ]
  },
  {
   "cell_type": "code",
   "execution_count": 4,
   "metadata": {},
   "outputs": [
    {
     "name": "stdout",
     "output_type": "stream",
     "text": [
      "[[4 3]\n",
      " [5 1]\n",
      " [6 1]\n",
      " [7 1]\n",
      " [8 1]\n",
      " [9 1]]\n"
     ]
    }
   ],
   "source": [
    "array = np.array([4,7,8,9,5,6,4,4])\n",
    "unique, counts = np.unique(array,return_counts = True)\n",
    "items= np.asarray((unique,counts)).T\n",
    "print(items)"
   ]
  },
  {
   "cell_type": "code",
   "execution_count": null,
   "metadata": {},
   "outputs": [],
   "source": []
  }
 ],
 "metadata": {
  "kernelspec": {
   "display_name": "Python 3",
   "language": "python",
   "name": "python3"
  },
  "language_info": {
   "codemirror_mode": {
    "name": "ipython",
    "version": 3
   },
   "file_extension": ".py",
   "mimetype": "text/x-python",
   "name": "python",
   "nbconvert_exporter": "python",
   "pygments_lexer": "ipython3",
   "version": "3.8.3"
  }
 },
 "nbformat": 4,
 "nbformat_minor": 4
}
