{
 "cells": [
  {
   "cell_type": "markdown",
   "metadata": {},
   "source": [
    "# Question 1"
   ]
  },
  {
   "cell_type": "code",
   "execution_count": 1,
   "metadata": {},
   "outputs": [
    {
     "name": "stdout",
     "output_type": "stream",
     "text": [
      "10\n",
      "23\n",
      "54\n",
      "54\n",
      "76\n",
      "98\n",
      "78\n",
      "9\n",
      "43\n",
      "16\n",
      "29\n",
      "the even numbers appended in the list are [54, 54, 76, 98, 78, 16]\n"
     ]
    }
   ],
   "source": [
    "#Create an empty list\n",
    "list=[]\n",
    "#input from the user \n",
    "num =int(input())\n",
    "lines =[]\n",
    "for i in range (num):\n",
    "    x = int(input())\n",
    "    lines.append(x)\n",
    "    if x>=100:\n",
    "        break\n",
    "for i in lines:\n",
    "    if i%2==0:\n",
    "        list.append(i)\n",
    "print(\"the even numbers appended in the list are\",list)"
   ]
  },
  {
   "cell_type": "markdown",
   "metadata": {},
   "source": [
    "# Question 2"
   ]
  },
  {
   "cell_type": "code",
   "execution_count": 1,
   "metadata": {},
   "outputs": [
    {
     "name": "stdout",
     "output_type": "stream",
     "text": [
      "['l', 'e', 't', 's', 'u', 'p', 'g', 'r', 'a', 'd', 'e']\n"
     ]
    }
   ],
   "source": [
    "#iterating through a string ussing list comprehemsion\n",
    "h_letters = [letter for letter in 'letsupgrade']\n",
    "print(h_letters)"
   ]
  },
  {
   "cell_type": "code",
   "execution_count": 2,
   "metadata": {},
   "outputs": [
    {
     "name": "stdout",
     "output_type": "stream",
     "text": [
      "[0, 2, 4, 6, 8]\n"
     ]
    }
   ],
   "source": [
    "#using if with list comprehension\n",
    "numbers = [x for x in range (10) if x%2 == 0]\n",
    "print(numbers)"
   ]
  },
  {
   "cell_type": "code",
   "execution_count": 4,
   "metadata": {},
   "outputs": [
    {
     "name": "stdout",
     "output_type": "stream",
     "text": [
      "[0, 10, 20, 30, 40]\n"
     ]
    }
   ],
   "source": [
    "#using nested if with list comprehension\n",
    "num = [y for y in range (50) if y%2 == 0 if y%5 == 0]\n",
    "print(num)"
   ]
  },
  {
   "cell_type": "code",
   "execution_count": 5,
   "metadata": {},
   "outputs": [
    {
     "name": "stdout",
     "output_type": "stream",
     "text": [
      "['Even', 'odd', 'Even', 'odd', 'Even']\n"
     ]
    }
   ],
   "source": [
    "#using if...else with list comprehension\n",
    "num = ['Even' if i%2 == 0 else \"odd\" for i in range (5)]\n",
    "print(num)"
   ]
  },
  {
   "cell_type": "markdown",
   "metadata": {},
   "source": [
    "# Question 3"
   ]
  },
  {
   "cell_type": "code",
   "execution_count": 6,
   "metadata": {},
   "outputs": [
    {
     "name": "stdout",
     "output_type": "stream",
     "text": [
      "5\n",
      "{1: 1, 2: 8, 3: 27, 4: 64, 5: 125}"
     ]
    }
   ],
   "source": [
    "n= int(input())\n",
    "dictionary ={}\n",
    "for i in range (n):\n",
    "    dictionary[i+1] = (i+1)**3\n",
    "print(dictionary,end=\"\")"
   ]
  },
  {
   "cell_type": "markdown",
   "metadata": {},
   "source": [
    "# Question 4"
   ]
  },
  {
   "cell_type": "code",
   "execution_count": 7,
   "metadata": {},
   "outputs": [
    {
     "name": "stdout",
     "output_type": "stream",
     "text": [
      "enter the values in pair of direction and steps:\n",
      "up 5\n",
      "down 3\n",
      "left 3\n",
      "right 2\n",
      "\n",
      "the distance from original position to the current position is: 2\n"
     ]
    }
   ],
   "source": [
    "pos = {'x' : 0, 'y' : 0}\n",
    "print(\"enter the values in pair of direction and steps:\")\n",
    "while True:\n",
    "    n= input()\n",
    "    if not n:\n",
    "        break\n",
    "    direction,steps = n.split()\n",
    "    if direction == \"up\":\n",
    "        pos[\"y\"] += int(steps)\n",
    "    elif direction == \"down\":\n",
    "        pos[\"y\"] -= int(steps)\n",
    "    elif direction == \"left\":\n",
    "        pos[\"x\"] -= int(steps)\n",
    "    elif direction == \"right\":\n",
    "        pos[\"x\"] += int(steps)\n",
    "print(\"the distance from original position to the current position is:\",(int(round((pos[\"x\"]**2 + pos[\"y\"]**2)**0.5))))"
   ]
  },
  {
   "cell_type": "code",
   "execution_count": null,
   "metadata": {},
   "outputs": [],
   "source": []
  }
 ],
 "metadata": {
  "kernelspec": {
   "display_name": "Python 3",
   "language": "python",
   "name": "python3"
  },
  "language_info": {
   "codemirror_mode": {
    "name": "ipython",
    "version": 3
   },
   "file_extension": ".py",
   "mimetype": "text/x-python",
   "name": "python",
   "nbconvert_exporter": "python",
   "pygments_lexer": "ipython3",
   "version": "3.8.3"
  }
 },
 "nbformat": 4,
 "nbformat_minor": 4
}
